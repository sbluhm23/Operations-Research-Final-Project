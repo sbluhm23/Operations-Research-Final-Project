{
 "cells": [
  {
   "cell_type": "code",
   "execution_count": 1,
   "id": "f16438ed",
   "metadata": {},
   "outputs": [],
   "source": [
    "import gurobipy as gp\n",
    "from gurobipy import GRB\n",
    "\n",
    "#import modules"
   ]
  },
  {
   "cell_type": "code",
   "execution_count": null,
   "id": "a8947361",
   "metadata": {},
   "outputs": [],
   "source": []
  },
  {
   "cell_type": "code",
   "execution_count": 2,
   "id": "a33ca6b6",
   "metadata": {},
   "outputs": [],
   "source": [
    "import json\n",
    "import networkx\n",
    "from networkx.readwrite import json_graph\n",
    "#opening json file for data\n",
    "def read_graph_from_json(json_file):\n",
    "    with open(json_file) as f:\n",
    "        data = json.load(f)\n",
    "    return json_graph.adjacency_graph(data)"
   ]
  },
  {
   "cell_type": "code",
   "execution_count": 3,
   "id": "14b5f1eb",
   "metadata": {},
   "outputs": [],
   "source": [
    "#import Washington data from json file (WA)\n",
    "filepath = \"C:/Users/crazy/OneDrive/Desktop/School/Operation Research/Final Project/\"\n",
    "filename = 'WA_county.json'\n",
    "\n",
    "G = read_graph_from_json(filepath + filename)"
   ]
  },
  {
   "cell_type": "code",
   "execution_count": 4,
   "id": "b39dfb69",
   "metadata": {},
   "outputs": [
    {
     "name": "stdout",
     "output_type": "stream",
     "text": [
      "Node 0 represents Yakima County County, which had a population of 256728 in the 2020 census\n",
      "Node 1 represents Chelan County County, which had a population of 79074 in the 2020 census\n",
      "Node 2 represents Kitsap County County, which had a population of 275611 in the 2020 census\n",
      "Node 3 represents Lincoln County County, which had a population of 10876 in the 2020 census\n",
      "Node 4 represents Mason County County, which had a population of 65726 in the 2020 census\n",
      "Node 5 represents Pend Oreille County County, which had a population of 13401 in the 2020 census\n",
      "Node 6 represents Skagit County County, which had a population of 129523 in the 2020 census\n",
      "Node 7 represents Clallam County County, which had a population of 77155 in the 2020 census\n",
      "Node 8 represents Ferry County County, which had a population of 7551 in the 2020 census\n",
      "Node 9 represents Asotin County County, which had a population of 22285 in the 2020 census\n",
      "Node 10 represents Franklin County County, which had a population of 96749 in the 2020 census\n",
      "Node 11 represents Clark County County, which had a population of 503311 in the 2020 census\n",
      "Node 12 represents Kittitas County County, which had a population of 44337 in the 2020 census\n",
      "Node 13 represents Klickitat County County, which had a population of 22735 in the 2020 census\n",
      "Node 14 represents Cowlitz County County, which had a population of 110730 in the 2020 census\n",
      "Node 15 represents Pacific County County, which had a population of 22735 in the 2020 census\n",
      "Node 16 represents Thurston County County, which had a population of 294793 in the 2020 census\n",
      "Node 17 represents Lewis County County, which had a population of 82149 in the 2020 census\n",
      "Node 18 represents Douglas County County, which had a population of 42938 in the 2020 census\n",
      "Node 19 represents Whatcom County County, which had a population of 226847 in the 2020 census\n",
      "Node 20 represents Jefferson County County, which had a population of 32977 in the 2020 census\n",
      "Node 21 represents Benton County County, which had a population of 206873 in the 2020 census\n",
      "Node 22 represents Whitman County County, which had a population of 47973 in the 2020 census\n",
      "Node 23 represents Stevens County County, which had a population of 46446 in the 2020 census\n",
      "Node 24 represents King County County, which had a population of 2269675 in the 2020 census\n",
      "Node 25 represents Walla Walla County County, which had a population of 62584 in the 2020 census\n",
      "Node 26 represents Garfield County County, which had a population of 2286 in the 2020 census\n",
      "Node 27 represents Adams County County, which had a population of 20613 in the 2020 census\n",
      "Node 28 represents San Juan County County, which had a population of 17788 in the 2020 census\n",
      "Node 29 represents Snohomish County County, which had a population of 827957 in the 2020 census\n",
      "Node 30 represents Skamania County County, which had a population of 12036 in the 2020 census\n",
      "Node 31 represents Grant County County, which had a population of 99123 in the 2020 census\n",
      "Node 32 represents Island County County, which had a population of 86857 in the 2020 census\n",
      "Node 33 represents Grays Harbor County County, which had a population of 75636 in the 2020 census\n",
      "Node 34 represents Pierce County County, which had a population of 921130 in the 2020 census\n",
      "Node 35 represents Wahkiakum County County, which had a population of 4422 in the 2020 census\n",
      "Node 36 represents Columbia County County, which had a population of 3952 in the 2020 census\n",
      "Node 37 represents Spokane County County, which had a population of 539339 in the 2020 census\n",
      "Node 38 represents Okanogan County County, which had a population of 42104 in the 2020 census\n"
     ]
    }
   ],
   "source": [
    "for node in G.nodes: #for every node its gonna print and give us an idea of what the data looks like\n",
    "    county_name = G.nodes[node][\"NAMELSAD10\"]\n",
    "    county_population = G.nodes[node]['TOTPOP']\n",
    "    print(\"Node\",node,\"represents\",county_name,\"County, which had a population of\", county_population, \"in the 2020 census\")"
   ]
  },
  {
   "cell_type": "code",
   "execution_count": 5,
   "id": "28adcc20",
   "metadata": {},
   "outputs": [
    {
     "name": "stdout",
     "output_type": "stream",
     "text": [
      "Set parameter Username\n",
      "Academic license - for non-commercial use only - expires 2024-12-11\n"
     ]
    }
   ],
   "source": [
    "k = 10 #number of districts\n",
    "\n",
    "m = gp.Model() #create model for district divisions by counties\n",
    "\n",
    "x = m.addVars(G.nodes, k, vtype=GRB.BINARY)\n",
    "l = m.addVar()    #smalles district population\n",
    "u = m.addVar()    #largest district population\n"
   ]
  },
  {
   "cell_type": "code",
   "execution_count": 6,
   "id": "9bf272d7",
   "metadata": {},
   "outputs": [],
   "source": [
    "m.setObjective(u-l, GRB.MINIMIZE) #minimizing the smallest difference between smallest and largest\n",
    "\n",
    "#adding constraints\n",
    "#adds constraint for 1 district per county\n",
    "#each country should be kept whole for requirements\n",
    "# add constraints saying that each county i is assigned to one district\n",
    "m.addConstrs( gp.quicksum( x[i,j] for j in range(k) ) == 1 for i in G.nodes ) \n",
    "\n",
    "# add constraints saying that each district has population at least y\n",
    "m.addConstrs( gp.quicksum( G.nodes[i]['TOTPOP'] * x[i,j] for i in G.nodes ) >= l for j in range(k) )\n",
    "\n",
    "# add constraints saying that each district has population at most z\n",
    "m.addConstrs( gp.quicksum( G.nodes[i]['TOTPOP'] * x[i,j] for i in G.nodes ) <= u for j in range(k) )\n",
    "\n",
    "m.update()"
   ]
  },
  {
   "cell_type": "code",
   "execution_count": 7,
   "id": "e68ad197",
   "metadata": {},
   "outputs": [
    {
     "name": "stdout",
     "output_type": "stream",
     "text": [
      "Gurobi Optimizer version 10.0.3 build v10.0.3rc0 (win64)\n",
      "\n",
      "CPU model: AMD Ryzen 7 7840HS with Radeon 780M Graphics, instruction set [SSE2|AVX|AVX2|AVX512]\n",
      "Thread count: 8 physical cores, 16 logical processors, using up to 16 threads\n",
      "\n",
      "Optimize a model with 59 rows, 392 columns and 1190 nonzeros\n",
      "Model fingerprint: 0xddb3f514\n",
      "Variable types: 2 continuous, 390 integer (390 binary)\n",
      "Coefficient statistics:\n",
      "  Matrix range     [1e+00, 2e+06]\n",
      "  Objective range  [1e+00, 1e+00]\n",
      "  Bounds range     [1e+00, 1e+00]\n",
      "  RHS range        [1e+00, 1e+00]\n",
      "Found heuristic solution: objective 2828838.0000\n",
      "Presolve time: 0.00s\n",
      "Presolved: 59 rows, 392 columns, 1190 nonzeros\n",
      "Variable types: 0 continuous, 392 integer (390 binary)\n",
      "\n",
      "Root relaxation: objective 0.000000e+00, 67 iterations, 0.00 seconds (0.00 work units)\n",
      "\n",
      "    Nodes    |    Current Node    |     Objective Bounds      |     Work\n",
      " Expl Unexpl |  Obj  Depth IntInf | Incumbent    BestBd   Gap | It/Node Time\n",
      "\n",
      "     0     0    0.00000    0   15 2828838.00    0.00000   100%     -    0s\n",
      "H    0     0                    2800338.0000    0.00000   100%     -    0s\n",
      "H    0     0                    2253594.0000    0.00000   100%     -    0s\n",
      "H    0     0                    1925325.0000    0.00000   100%     -    0s\n",
      "     0     0 1204379.50    0   22 1925325.00 1204379.50  37.4%     -    0s\n",
      "H    0     0                    1916657.0000 1204379.50  37.2%     -    0s\n",
      "H    0     0                    1861983.0000 1204379.50  35.3%     -    0s\n",
      "H    0     0                    1802238.0000 1496871.87  16.9%     -    0s\n",
      "H    0     0                    1767340.0000 1496871.87  15.3%     -    0s\n",
      "H    0     0                    1762918.0000 1496871.87  15.1%     -    0s\n",
      "     0     0 1496871.87    0   30 1762918.00 1496871.87  15.1%     -    0s\n",
      "H    0     0                    1761942.0000 1528834.22  13.2%     -    0s\n",
      "H    0     0                    1759656.0000 1528834.22  13.1%     -    0s\n",
      "     0     0 1528834.22    0   35 1759656.00 1528834.22  13.1%     -    0s\n",
      "     0     0 1530983.61    0   33 1759656.00 1530983.61  13.0%     -    0s\n",
      "     0     0 1531320.51    0   33 1759656.00 1531320.51  13.0%     -    0s\n",
      "H    0     0                    1759055.0000 1531320.51  12.9%     -    0s\n",
      "     0     0 1609312.48    0   42 1759055.00 1609312.48  8.51%     -    0s\n",
      "     0     0 1636917.50    0   27 1759055.00 1636917.50  6.94%     -    0s\n",
      "     0     0 1651419.72    0   20 1759055.00 1651419.72  6.12%     -    0s\n",
      "     0     0 1651696.25    0   23 1759055.00 1651696.25  6.10%     -    0s\n",
      "     0     0 1651904.35    0   35 1759055.00 1651904.35  6.09%     -    0s\n",
      "     0     0 1670226.83    0   23 1759055.00 1670226.83  5.05%     -    0s\n",
      "     0     0 1672080.32    0   25 1759055.00 1672080.32  4.94%     -    0s\n",
      "     0     0 1672137.75    0   28 1759055.00 1672137.75  4.94%     -    0s\n",
      "     0     0 1673672.06    0   34 1759055.00 1673672.06  4.85%     -    0s\n",
      "     0     0 1676610.67    0   27 1759055.00 1676610.67  4.69%     -    0s\n",
      "     0     0 1678352.34    0   35 1759055.00 1678352.34  4.59%     -    0s\n",
      "     0     0 1678352.34    0   36 1759055.00 1678352.34  4.59%     -    0s\n",
      "     0     0 1678352.50    0   37 1759055.00 1678352.50  4.59%     -    0s\n",
      "     0     0 1678352.50    0   34 1759055.00 1678352.50  4.59%     -    0s\n",
      "H    0     0                    1754655.0000 1678352.50  4.35%     -    0s\n",
      "H    0     0                    1754529.0000 1678352.50  4.34%     -    0s\n",
      "H    0     2                    1754518.0000 1678352.50  4.34%     -    0s\n",
      "     0     2 1678352.50    0   34 1754518.00 1678352.50  4.34%     -    0s\n",
      "H   32    10                    1753045.0000 1745187.67  0.45%  25.5    0s\n",
      "H   37    10                    1752963.0000 1745187.67  0.44%  22.8    0s\n",
      "H   71    42                    1752836.0000 1745188.00  0.44%  15.0    0s\n",
      "H   77    42                    1747065.0000 1745188.00  0.11%  14.8    0s\n",
      "H  111    62                    1746512.0000 1745188.00  0.08%  11.8    0s\n",
      "H  112    62                    1746221.0000 1745188.00  0.06%  11.7    0s\n",
      "H  115    62                    1746039.0000 1745188.00  0.05%  11.5    0s\n",
      "H  120    62                    1745976.0000 1745188.00  0.05%  11.1    0s\n",
      "*  911   744              64    1745751.0000 1745188.00  0.03%   5.8    0s\n",
      "H 1422   800                    1745603.0000 1745188.00  0.02%   5.1    0s\n",
      "* 2798  1438              63    1745552.0000 1745188.00  0.02%   5.3    0s\n",
      "* 4435  1758              65    1745481.0000 1745188.00  0.02%   5.5    0s\n",
      "H 6186  2201                    1745423.0000 1745188.00  0.01%   5.6    0s\n",
      "H 6188  2091                    1745421.0000 1745188.00  0.01%   5.6    0s\n",
      "*22551 11239              59    1745417.0000 1745188.00  0.01%   2.5    1s\n",
      "*24411 11225              57    1745413.0000 1745188.00  0.01%   2.7    1s\n",
      "*28189 10591              67    1745412.0000 1745188.00  0.01%   3.0    1s\n",
      "H44491 14402                    1745399.0000 1745188.00  0.01%   2.8    2s\n",
      "H85858 16638                    1745383.0000 1745188.00  0.01%   3.1    4s\n",
      "H85905 15829                    1745367.0000 1745188.00  0.01%   3.1    4s\n",
      " 99537 18136 1745188.00   73    8 1745367.00 1745188.00  0.01%   3.1    5s\n",
      "H135037 20771                    1745333.0000 1745188.00  0.01%   3.0    5s\n",
      "\n",
      "Cutting planes:\n",
      "  Cover: 1\n",
      "  MIR: 1\n",
      "  RLT: 2\n",
      "\n",
      "Explored 135118 nodes (448074 simplex iterations) in 6.00 seconds (3.89 work units)\n",
      "Thread count was 16 (of 16 available processors)\n",
      "\n",
      "Solution count 10: 1.74533e+06 1.74537e+06 1.74538e+06 ... 1.74548e+06\n",
      "\n",
      "Optimal solution found (tolerance 1.00e-04)\n",
      "Best objective 1.745333000000e+06, best bound 1.745188000000e+06, gap 0.0083%\n"
     ]
    }
   ],
   "source": [
    "m.optimize()"
   ]
  },
  {
   "cell_type": "code",
   "execution_count": 8,
   "id": "e33495cb",
   "metadata": {},
   "outputs": [
    {
     "name": "stdout",
     "output_type": "stream",
     "text": [
      "10876\n"
     ]
    }
   ],
   "source": [
    "print(G.nodes[3][\"TOTPOP\"]) #Trying to make sure the data works \n",
    "#returns total population for each county"
   ]
  },
  {
   "cell_type": "code",
   "execution_count": 9,
   "id": "d2a923de",
   "metadata": {
    "scrolled": true
   },
   "outputs": [
    {
     "name": "stdout",
     "output_type": "stream",
     "text": [
      "The minimum required deviation is 1745333.0 persons.\n",
      "District 0 has these nodes = [0, 14, 17, 27, 30, 38] and this population = 524360\n",
      "The corresponding county names are = ['Yakima County', 'Cowlitz County', 'Lewis County', 'Adams County', 'Skamania County', 'Okanogan County']\n",
      "\n",
      "District 1 has these nodes = [24] and this population = 2269675\n",
      "The corresponding county names are = ['King County']\n",
      "\n",
      "District 2 has these nodes = [11, 28, 36] and this population = 525051\n",
      "The corresponding county names are = ['Clark County', 'San Juan County', 'Columbia County']\n",
      "\n",
      "District 3 has these nodes = [29] and this population = 827957\n",
      "The corresponding county names are = ['Snohomish County']\n",
      "\n",
      "District 4 has these nodes = [2, 6, 8, 9, 18, 23] and this population = 524354\n",
      "The corresponding county names are = ['Kitsap County', 'Skagit County', 'Ferry County', 'Asotin County', 'Douglas County', 'Stevens County']\n",
      "\n",
      "District 5 has these nodes = [1, 5, 21, 25, 32, 33] and this population = 524425\n",
      "The corresponding county names are = ['Chelan County', 'Pend Oreille County', 'Benton County', 'Walla Walla County', 'Island County', 'Grays Harbor County']\n",
      "\n",
      "District 6 has these nodes = [37] and this population = 539339\n",
      "The corresponding county names are = ['Spokane County']\n",
      "\n",
      "District 7 has these nodes = [7, 12, 15, 16, 20, 22, 35] and this population = 524392\n",
      "The corresponding county names are = ['Clallam County', 'Kittitas County', 'Pacific County', 'Thurston County', 'Jefferson County', 'Whitman County', 'Wahkiakum County']\n",
      "\n",
      "District 8 has these nodes = [3, 4, 10, 13, 19, 26, 31] and this population = 524342\n",
      "The corresponding county names are = ['Lincoln County', 'Mason County', 'Franklin County', 'Klickitat County', 'Whatcom County', 'Garfield County', 'Grant County']\n",
      "\n",
      "District 9 has these nodes = [34] and this population = 921130\n",
      "The corresponding county names are = ['Pierce County']\n",
      "\n"
     ]
    }
   ],
   "source": [
    "# print the absolute population deviation\n",
    "print(\"The minimum required deviation is\",m.objVal,\"persons.\") \n",
    "\n",
    "# retrieve the districts and their populations\n",
    "districts = [ [ i for i in G.nodes if x[i,j].x > 0.5 ] for j in range(k) ]\n",
    "district_county_names = [ [ G.nodes[i]['NAMELSAD10'] for i in district ] for district in districts ]\n",
    "district_populations = [ sum( G.nodes[i]['TOTPOP'] for i in district ) for district in districts ]\n",
    "\n",
    "# print district info\n",
    "for j in range(k):\n",
    "    print(\"District\",j,\"has these nodes =\",districts[j],\"and this population =\",district_populations[j] )\n",
    "    print(\"The corresponding county names are =\",district_county_names[j] )\n",
    "    print(\"\")\n"
   ]
  },
  {
   "cell_type": "code",
   "execution_count": 10,
   "id": "d887364e",
   "metadata": {},
   "outputs": [
    {
     "name": "stdout",
     "output_type": "stream",
     "text": [
      "0 256728\n",
      "1 335802\n",
      "2 611413\n",
      "3 622289\n",
      "4 688015\n",
      "5 701416\n",
      "6 830939\n",
      "7 908094\n",
      "8 915645\n",
      "9 937930\n",
      "10 1034679\n",
      "11 1537990\n",
      "12 1582327\n",
      "13 1605062\n",
      "14 1715792\n",
      "15 1738527\n",
      "16 2033320\n",
      "17 2115469\n",
      "18 2158407\n",
      "19 2385254\n",
      "20 2418231\n",
      "21 2625104\n",
      "22 2673077\n",
      "23 2719523\n",
      "24 4989198\n",
      "25 5051782\n",
      "26 5054068\n",
      "27 5074681\n",
      "28 5092469\n",
      "29 5920426\n",
      "30 5932462\n",
      "31 6031585\n",
      "32 6118442\n",
      "33 6194078\n",
      "34 7115208\n",
      "35 7119630\n",
      "36 7123582\n",
      "37 7662921\n",
      "38 7705025\n",
      "ideal deviation 770502.5\n"
     ]
    }
   ],
   "source": [
    "#since the counties are not very evenly split it makes it infeasible to divide them into even deviations \n",
    "#based on counties alone\n",
    "#the ideal deviation should be \n",
    "total=0\n",
    "for i in G.nodes():\n",
    "    total=total+G.nodes[i][\"TOTPOP\"]\n",
    "    print(i,total)\n",
    "print(\"ideal deviation\",total/k)\n",
    "#this shows the population should be about 770502 per district. \n",
    "#This means we will have to split districts in order to get a more even split\n"
   ]
  },
  {
   "cell_type": "code",
   "execution_count": 76,
   "id": "fb501370",
   "metadata": {},
   "outputs": [],
   "source": [
    "#Now I will try to use an altered model using tracts instead of counties\n",
    "G2 = read_graph_from_json(\"C:/Users/crazy/OneDrive/Desktop/School/Operation Research/Final Project/WA_tracts.json\")\n",
    "\n",
    "m2 = gp.Model()\n",
    "\n",
    "x2 = m2.addVars(G2.nodes, k, vtype=GRB.CONTINUOUS)\n",
    "l2 = m2.addVar()    #smalles district population\n",
    "u2 = m2.addVar()"
   ]
  },
  {
   "cell_type": "code",
   "execution_count": 17,
   "id": "fee8a125",
   "metadata": {},
   "outputs": [],
   "source": [
    "m2.setObjective(u2-l2, GRB.MINIMIZE)\n",
    "\n",
    "m2.addConstrs( gp.quicksum( x2[i,j] for j in range(k) ) == 1 for i in G2.nodes ) \n",
    "\n",
    "m2.addConstrs( gp.quicksum( G2.nodes[i]['TOTPOP'] * x2[i,j] for i in G2.nodes ) >= l2 for j in range(k) )\n",
    "\n",
    "m2.addConstrs( gp.quicksum( G2.nodes[i]['TOTPOP'] * x2[i,j] for i in G2.nodes ) <= u2 for j in range(k) )\n",
    "\n",
    "m2.update()"
   ]
  },
  {
   "cell_type": "code",
   "execution_count": 18,
   "id": "e7dfd0af",
   "metadata": {},
   "outputs": [
    {
     "name": "stdout",
     "output_type": "stream",
     "text": [
      "Gurobi Optimizer version 10.0.3 build v10.0.3rc0 (win64)\n",
      "\n",
      "CPU model: AMD Ryzen 7 7840HS with Radeon 780M Graphics, instruction set [SSE2|AVX|AVX2|AVX512]\n",
      "Thread count: 8 physical cores, 16 logical processors, using up to 16 threads\n",
      "\n",
      "Optimize a model with 1478 rows, 14582 columns and 43500 nonzeros\n",
      "Model fingerprint: 0x6f71036e\n",
      "Coefficient statistics:\n",
      "  Matrix range     [1e+00, 1e+04]\n",
      "  Objective range  [1e+00, 1e+00]\n",
      "  Bounds range     [0e+00, 0e+00]\n",
      "  RHS range        [1e+00, 1e+00]\n",
      "Presolve removed 13 rows and 130 columns\n",
      "Presolve time: 0.03s\n",
      "Presolved: 1465 rows, 14452 columns, 43370 nonzeros\n",
      "\n",
      "Iteration    Objective       Primal Inf.    Dual Inf.      Time\n",
      "       0    0.0000000e+00   0.000000e+00   0.000000e+00      0s\n",
      "\n",
      "Use crossover to convert LP symmetric solution to basic solution...\n",
      "Crossover log...\n",
      "\n",
      "    1292 DPushes remaining with DInf 0.0000000e+00                 0s\n",
      "       0 DPushes remaining with DInf 0.0000000e+00                 0s\n",
      "\n",
      "   14279 PPushes remaining with PInf 0.0000000e+00                 0s\n",
      "       0 PPushes remaining with PInf 0.0000000e+00                 0s\n",
      "\n",
      "  Push phase complete: Pinf 0.0000000e+00, Dinf 1.4672707e-12      0s\n",
      "\n",
      "Iteration    Objective       Primal Inf.    Dual Inf.      Time\n",
      "   14291   -2.3283064e-10   0.000000e+00   0.000000e+00      0s\n",
      "\n",
      "Solved in 14291 iterations and 0.11 seconds (0.05 work units)\n",
      "Optimal objective -2.328306437e-10\n"
     ]
    }
   ],
   "source": [
    "m2.optimize()"
   ]
  },
  {
   "cell_type": "code",
   "execution_count": 22,
   "id": "46116950",
   "metadata": {},
   "outputs": [
    {
     "name": "stdout",
     "output_type": "stream",
     "text": [
      "The minimum required deviation is -2.3283064365386963e-10 persons.\n",
      "District 0 has these nodes = [1, 6, 22, 36, 48, 58, 72, 84, 92, 105, 118, 132, 144, 161, 173, 184, 193, 197, 202, 214, 224, 237, 246, 262, 275, 287, 300, 311, 313, 325, 339, 341, 365, 373, 389, 397, 407, 419, 433, 449, 459, 464, 475, 488, 495, 501, 512, 520, 528, 545, 563, 572, 576, 586, 593, 611, 614, 617, 635, 644, 647, 663, 677, 696, 708, 730, 744, 759, 764, 769, 778, 785, 794, 804, 814, 828, 837, 850, 858, 874, 887, 894, 905, 916, 925, 939, 953, 965, 981, 988, 1002, 1010, 1025, 1032, 1044, 1053, 1061, 1077, 1088, 1100, 1112, 1122, 1128, 1132, 1144, 1154, 1155, 1160, 1171, 1183, 1184, 1192, 1200, 1202, 1206, 1218, 1229, 1238, 1245, 1255, 1264, 1273, 1280, 1292, 1306, 1319, 1328, 1344, 1360, 1369, 1382, 1395, 1407, 1419, 1426, 1435] and this population = 670646\n",
      "The corresponding county names are = ['Census Tract 716.01', 'Census Tract 728', 'Census Tract 732', 'Census Tract 715.04', 'Census Tract 725.04', 'Census Tract 724.06', 'Census Tract 628.01', 'Census Tract 718.06', 'Census Tract 723.12', 'Census Tract 608', 'Census Tract 712.06', 'Census Tract 713.06', 'Census Tract 716.02', 'Census Tract 9400.08', 'Census Tract 519.22', 'Census Tract 529.05', 'Census Tract 535.09', 'Census Tract 9901', 'Census Tract 22', 'Census Tract 31', 'Census Tract 15.01', 'Census Tract 9400.05', 'Census Tract 910', 'Census Tract 920', 'Census Tract 921', 'Census Tract 9610', 'Census Tract 911', 'Census Tract 9901', 'Census Tract 9602', 'Census Tract 9508', 'Census Tract 9515', 'Census Tract 9901', 'Census Tract 6', 'Census Tract 9604', 'Census Tract 9901', 'Census Tract 413.25', 'Census Tract 412.03', 'Census Tract 403.02', 'Census Tract 413.28', 'Census Tract 407.07', 'Census Tract 403.01', 'Census Tract 427', 'Census Tract 413.19', 'Census Tract 405.09', 'Census Tract 205.01', 'Census Tract 204', 'Census Tract 9801', 'Census Tract 9757', 'Census Tract 114.20', 'Census Tract 9715', 'Census Tract 8', 'Census Tract 9901', 'Census Tract 118.22', 'Census Tract 6.01', 'Census Tract 117.10', 'Census Tract 9508', 'Census Tract 9901', 'Census Tract 123.10', 'Census Tract 104.03', 'Census Tract 9900', 'Census Tract 2', 'Census Tract 102', 'Census Tract 119', 'Census Tract 102.01', 'Census Tract 115.03', 'Census Tract 9501', 'Census Tract 322.03', 'Census Tract 4.02', 'Census Tract 9901', 'Census Tract 320.03', 'Census Tract 265', 'Census Tract 214', 'Census Tract 104.02', 'Census Tract 250.01', 'Census Tract 205', 'Census Tract 218.04', 'Census Tract 202', 'Census Tract 316.05', 'Census Tract 251.02', 'Census Tract 105', 'Census Tract 219.06', 'Census Tract 306', 'Census Tract 96', 'Census Tract 220.05', 'Census Tract 94', 'Census Tract 224', 'Census Tract 113', 'Census Tract 301', 'Census Tract 246.01', 'Census Tract 297', 'Census Tract 65', 'Census Tract 295.03', 'Census Tract 319.09', 'Census Tract 289.02', 'Census Tract 48', 'Census Tract 285', 'Census Tract 41', 'Census Tract 36', 'Census Tract 312.02', 'Census Tract 27', 'Census Tract 222.01', 'Census Tract 15', 'Census Tract 9', 'Census Tract 219.03', 'Census Tract 9207.01', 'Census Tract 413.04', 'Census Tract 9900.02', 'Census Tract 9717', 'Census Tract 416.06', 'Census Tract 9706.02', 'Census Tract 9922.01', 'Census Tract 12', 'Census Tract 9900', 'Census Tract 419.04', 'Census Tract 9901', 'Census Tract 518.03', 'Census Tract 502', 'Census Tract 511', 'Census Tract 522.03', 'Census Tract 519.14', 'Census Tract 517.02', 'Census Tract 403', 'Census Tract 418.05', 'Census Tract 104', 'Census Tract 416.05', 'Census Tract 531.02', 'Census Tract 9400.01', 'Census Tract 25', 'Census Tract 9501', 'Census Tract 117.02', 'Census Tract 132.01', 'Census Tract 10', 'Census Tract 124.02', 'Census Tract 121', 'Census Tract 126', 'Census Tract 9703']\n",
      "\n",
      "District 1 has these nodes = [13, 20, 31, 43, 54, 68, 79, 91, 102, 125, 139, 148, 159, 170, 181, 189, 203, 215, 228, 243, 254, 264, 274, 284, 290, 308, 323, 331, 342, 360, 369, 383, 400, 409, 422, 436, 444, 453, 472, 482, 496, 509, 521, 532, 553, 555, 560, 566, 575, 587, 596, 612, 620, 634, 648, 660, 668, 676, 690, 709, 732, 746, 760, 771, 784, 798, 807, 815, 825, 838, 845, 857, 872, 880, 892, 910, 920, 938, 944, 954, 963, 976, 987, 1001, 1008, 1023, 1039, 1052, 1065, 1082, 1089, 1107, 1113, 1121, 1131, 1141, 1161, 1173, 1188, 1198, 1216, 1223, 1233, 1241, 1252, 1266, 1278, 1289, 1298, 1311, 1323, 1332, 1354, 1359, 1371, 1384, 1400, 1414, 1425, 1443, 1449] and this population = 670706\n",
      "The corresponding county names are = ['Census Tract 723.08', 'Census Tract 721.05', 'Census Tract 730.01', 'Census Tract 635.02', 'Census Tract 724.08', 'Census Tract 703.07', 'Census Tract 731.14', 'Census Tract 611', 'Census Tract 731.25', 'Census Tract 9400.03', 'Census Tract 729.07', 'Census Tract 9400.05', 'Census Tract 703.11', 'Census Tract 624', 'Census Tract 536.03', 'Census Tract 519.25', 'Census Tract 11', 'Census Tract 9400.04', 'Census Tract 28.02', 'Census Tract 907', 'Census Tract 928.01', 'Census Tract 809', 'Census Tract 901.02', 'Census Tract 9612', 'Census Tract 9613.02', 'Census Tract 905.01', 'Census Tract 9702', 'Census Tract 9527', 'Census Tract 9524.02', 'Census Tract 7', 'Census Tract 19', 'Census Tract 9611', 'Census Tract 408.03', 'Census Tract 413.18', 'Census Tract 404.14', 'Census Tract 408.10', 'Census Tract 9606', 'Census Tract 408.09', 'Census Tract 406.03', 'Census Tract 406.04', 'Census Tract 205.02', 'Census Tract 206.06', 'Census Tract 9752', 'Census Tract 114.10', 'Census Tract 9709', 'Census Tract 20.01', 'Census Tract 4', 'Census Tract 12', 'Census Tract 117.20', 'Census Tract 17', 'Census Tract 127.20', 'Census Tract 9502', 'Census Tract 9504', 'Census Tract 12.01', 'Census Tract 3', 'Census Tract 103.02', 'Census Tract 8.05', 'Census Tract 108.03', 'Census Tract 112', 'Census Tract 108.13', 'Census Tract 9514', 'Census Tract 327.04', 'Census Tract 4.01', 'Census Tract 320.05', 'Census Tract 215', 'Census Tract 229.02', 'Census Tract 315.01', 'Census Tract 114.01', 'Census Tract 239', 'Census Tract 201', 'Census Tract 291.02', 'Census Tract 249.03', 'Census Tract 108', 'Census Tract 323.29', 'Census Tract 228.01', 'Census Tract 256.01', 'Census Tract 304.01', 'Census Tract 223', 'Census Tract 303.09', 'Census Tract 112', 'Census Tract 302.02', 'Census Tract 80.01', 'Census Tract 298.01', 'Census Tract 66', 'Census Tract 217', 'Census Tract 260.02', 'Census Tract 53.01', 'Census Tract 286', 'Census Tract 257.01', 'Census Tract 31', 'Census Tract 312.04', 'Census Tract 314', 'Census Tract 292.03', 'Census Tract 16', 'Census Tract 216', 'Census Tract 9209', 'Census Tract 9710', 'Census Tract 416.08', 'Census Tract 11', 'Census Tract 16', 'Census Tract 527.07', 'Census Tract 522.06', 'Census Tract 510', 'Census Tract 515', 'Census Tract 504.01', 'Census Tract 518.02', 'Census Tract 411', 'Census Tract 529.04', 'Census Tract 111', 'Census Tract 521.04', 'Census Tract 535.04', 'Census Tract 538.03', 'Census Tract 42', 'Census Tract 47', 'Census Tract 104.02', 'Census Tract 135', 'Census Tract 112.01', 'Census Tract 136', 'Census Tract 119', 'Census Tract 4', 'Census Tract 11']\n",
      "\n",
      "District 2 has these nodes = [12, 24, 37, 45, 55, 64, 76, 98, 104, 119, 131, 142, 154, 165, 176, 191, 207, 216, 223, 242, 250, 260, 276, 289, 302, 314, 332, 337, 343, 367, 380, 395, 406, 420, 431, 440, 452, 460, 471, 479, 489, 498, 511, 524, 537, 549, 565, 580, 589, 606, 619, 630, 638, 653, 665, 682, 689, 694, 716, 723, 727, 731, 741, 751, 762, 776, 791, 801, 810, 818, 833, 849, 865, 871, 873, 886, 895, 904, 924, 933, 941, 951, 964, 974, 983, 995, 1000, 1012, 1021, 1030, 1038, 1048, 1063, 1072, 1083, 1097, 1109, 1120, 1137, 1151, 1166, 1175, 1193, 1209, 1222, 1236, 1246, 1261, 1270, 1286, 1290, 1297, 1317, 1331, 1342, 1352, 1363, 1375, 1391, 1398, 1410, 1429, 1442, 1455] and this population = 673714\n",
      "The corresponding county names are = ['Census Tract 714.10', 'Census Tract 731.10', 'Census Tract 703.09', 'Census Tract 612', 'Census Tract 714.03', 'Census Tract 615', 'Census Tract 634', 'Census Tract 703.13', 'Census Tract 714.07', 'Census Tract 623', 'Census Tract 707.03', 'Census Tract 703.10', 'Census Tract 631', 'Census Tract 702.03', 'Census Tract 521.15', 'Census Tract 527.08', 'Census Tract 20.01', 'Census Tract 8', 'Census Tract 16.02', 'Census Tract 17.02', 'Census Tract 803', 'Census Tract 917', 'Census Tract 922', 'Census Tract 9608.02', 'Census Tract 928.02', 'Census Tract 9604', 'Census Tract 9521', 'Census Tract 9509', 'Census Tract 9523.02', 'Census Tract 20', 'Census Tract 9610', 'Census Tract 413.23', 'Census Tract 412.01', 'Census Tract 409.10', 'Census Tract 413.33', 'Census Tract 9602', 'Census Tract 424', 'Census Tract 404.15', 'Census Tract 404.03', 'Census Tract 413.22', 'Census Tract 405.04', 'Census Tract 206.01', 'Census Tract 206.05', 'Census Tract 102', 'Census Tract 9713', 'Census Tract 9704', 'Census Tract 11', 'Census Tract 127.30', 'Census Tract 15.02', 'Census Tract 116.22', 'Census Tract 9503', 'Census Tract 113', 'Census Tract 9505', 'Census Tract 10', 'Census Tract 105.02', 'Census Tract 109.01', 'Census Tract 115.01', 'Census Tract 103', 'Census Tract 2', 'Census Tract 9507', 'Census Tract 9503', 'Census Tract 9513', 'Census Tract 322.11', 'Census Tract 268.02', 'Census Tract 2', 'Census Tract 327.02', 'Census Tract 100.02', 'Census Tract 316.01', 'Census Tract 209', 'Census Tract 277.01', 'Census Tract 322.08', 'Census Tract 303.13', 'Census Tract 309.02', 'Census Tract 109', 'Census Tract 106', 'Census Tract 323.19', 'Census Tract 305.04', 'Census Tract 97.01', 'Census Tract 95', 'Census Tract 300.05', 'Census Tract 226.06', 'Census Tract 116', 'Census Tract 302.01', 'Census Tract 81', 'Census Tract 237', 'Census Tract 72', 'Census Tract 67', 'Census Tract 294.08', 'Census Tract 58.01', 'Census Tract 293.07', 'Census Tract 53.02', 'Census Tract 243', 'Census Tract 39', 'Census Tract 279', 'Census Tract 254', 'Census Tract 30', 'Census Tract 251.01', 'Census Tract 18', 'Census Tract 9203', 'Census Tract 9714', 'Census Tract 9703', 'Census Tract 418.06', 'Census Tract 5', 'Census Tract 9502', 'Census Tract 419.03', 'Census Tract 410', 'Census Tract 519.05', 'Census Tract 532.01', 'Census Tract 520.06', 'Census Tract 524.01', 'Census Tract 101', 'Census Tract 110', 'Census Tract 527.05', 'Census Tract 538.01', 'Census Tract 23', 'Census Tract 40', 'Census Tract 129.01', 'Census Tract 105.03', 'Census Tract 101', 'Census Tract 111.01', 'Census Tract 131', 'Census Tract 9708', 'Census Tract 3', 'Census Tract 18']\n",
      "\n",
      "District 3 has these nodes = [3, 9, 28, 35, 40, 67, 71, 81, 96, 112, 117, 133, 138, 157, 166, 169, 179, 188, 200, 209, 230, 236, 255, 258, 269, 273, 283, 296, 307, 324, 335, 354, 358, 374, 377, 379, 393, 403, 408, 425, 434, 447, 461, 470, 485, 497, 513, 535, 538, 543, 552, 569, 573, 582, 588, 601, 626, 629, 636, 654, 661, 672, 679, 688, 695, 711, 718, 726, 736, 750, 754, 757, 772, 782, 802, 811, 824, 830, 846, 855, 866, 879, 884, 893, 903, 914, 932, 937, 949, 971, 975, 979, 993, 998, 1007, 1018, 1026, 1035, 1041, 1054, 1060, 1076, 1086, 1095, 1110, 1129, 1143, 1159, 1174, 1189, 1199, 1215, 1225, 1244, 1251, 1256, 1260, 1275, 1284, 1304, 1320, 1335, 1341, 1351, 1357, 1364, 1379, 1387, 1399, 1409, 1430, 1433, 1446, 1456] and this population = 674200\n",
      "The corresponding county names are = ['Census Tract 9400.07', 'Census Tract 731.13', 'Census Tract 723.11', 'Census Tract 715.06', 'Census Tract 629', 'Census Tract 617', 'Census Tract 723.05', 'Census Tract 614', 'Census Tract 704.04', 'Census Tract 734.06', 'Census Tract 9400.04', 'Census Tract 733.01', 'Census Tract 729.05', 'Census Tract 632', 'Census Tract 711', 'Census Tract 712.08', 'Census Tract 527.09', 'Census Tract 519.23', 'Census Tract 7', 'Census Tract 18', 'Census Tract 9.01', 'Census Tract 9400.06', 'Census Tract 912.04', 'Census Tract 915', 'Census Tract 913.01', 'Census Tract 901.01', 'Census Tract 9602', 'Census Tract 903', 'Census Tract 902.01', 'Census Tract 9519', 'Census Tract 9526', 'Census Tract 23', 'Census Tract 8', 'Census Tract 9613', 'Census Tract 9607', 'Census Tract 9609', 'Census Tract 411.05', 'Census Tract 410.07', 'Census Tract 412.06', 'Census Tract 409.09', 'Census Tract 413.29', 'Census Tract 413.30', 'Census Tract 413.32', 'Census Tract 402.01', 'Census Tract 405.05', 'Census Tract 201', 'Census Tract 9501', 'Census Tract 9706', 'Census Tract 9711', 'Census Tract 9716', 'Census Tract 9708', 'Census Tract 123.30', 'Census Tract 122.21', 'Census Tract 122.11', 'Census Tract 7.04', 'Census Tract 124.11', 'Census Tract 118.10', 'Census Tract 104', 'Census Tract 5.01', 'Census Tract 104.01', 'Census Tract 103.01', 'Census Tract 12.02', 'Census Tract 110.01', 'Census Tract 114.01', 'Census Tract 111', 'Census Tract 107.07', 'Census Tract 4', 'Census Tract 9502', 'Census Tract 323.20', 'Census Tract 270', 'Census Tract 266', 'Census Tract 6', 'Census Tract 320.06', 'Census Tract 261', 'Census Tract 316.03', 'Census Tract 208', 'Census Tract 232.01', 'Census Tract 250.03', 'Census Tract 291.01', 'Census Tract 248', 'Census Tract 309.01', 'Census Tract 322.15', 'Census Tract 323.17', 'Census Tract 307', 'Census Tract 97.02', 'Census Tract 312.05', 'Census Tract 292.05', 'Census Tract 322.14', 'Census Tract 118', 'Census Tract 84', 'Census Tract 80.02', 'Census Tract 77', 'Census Tract 75', 'Census Tract 69', 'Census Tract 247.02', 'Census Tract 62', 'Census Tract 319.08', 'Census Tract 288.01', 'Census Tract 51', 'Census Tract 284.03', 'Census Tract 42', 'Census Tract 58.02', 'Census Tract 323.16', 'Census Tract 293.03', 'Census Tract 252', 'Census Tract 222.02', 'Census Tract 9208.01', 'Census Tract 633', 'Census Tract 416.01', 'Census Tract 13', 'Census Tract 4', 'Census Tract 527.06', 'Census Tract 535.05', 'Census Tract 526.03', 'Census Tract 503', 'Census Tract 526.04', 'Census Tract 533.01', 'Census Tract 404', 'Census Tract 526.05', 'Census Tract 114.02', 'Census Tract 531.01', 'Census Tract 519.18', 'Census Tract 21', 'Census Tract 36', 'Census Tract 45', 'Census Tract 129.02', 'Census Tract 105.04', 'Census Tract 139', 'Census Tract 107', 'Census Tract 130', 'Census Tract 9705', 'Census Tract 9707', 'Census Tract 7', 'Census Tract 19']\n",
      "\n",
      "District 4 has these nodes = [14, 15, 19, 34, 50, 57, 63, 73, 85, 101, 109, 121, 136, 150, 162, 172, 177, 187, 199, 205, 221, 232, 239, 245, 266, 271, 285, 298, 305, 318, 329, 348, 357, 363, 384, 390, 396, 412, 424, 429, 438, 451, 465, 474, 486, 492, 516, 518, 523, 533, 548, 568, 574, 595, 608, 613, 624, 628, 646, 655, 669, 681, 693, 712, 720, 738, 747, 763, 775, 797, 808, 819, 827, 842, 848, 859, 870, 889, 896, 906, 919, 928, 931, 946, 950, 959, 970, 985, 992, 997, 1009, 1019, 1028, 1045, 1056, 1066, 1075, 1094, 1099, 1117, 1125, 1145, 1149, 1156, 1163, 1178, 1182, 1186, 1203, 1219, 1232, 1240, 1254, 1267, 1277, 1288, 1302, 1325, 1330, 1348, 1368, 1378, 1390, 1394, 1403, 1411, 1424, 1436, 1451] and this population = 670214\n",
      "The corresponding county names are = ['Census Tract 9400.10', 'Census Tract 714.09', 'Census Tract 721.06', 'Census Tract 702.06', 'Census Tract 603', 'Census Tract 712.09', 'Census Tract 726.01', 'Census Tract 712.10', 'Census Tract 625', 'Census Tract 703.16', 'Census Tract 714.06', 'Census Tract 609.04', 'Census Tract 720', 'Census Tract 609.05', 'Census Tract 702.04', 'Census Tract 519.24', 'Census Tract 521.14', 'Census Tract 413.03', 'Census Tract 14', 'Census Tract 20.02', 'Census Tract 6', 'Census Tract 30.02', 'Census Tract 19.01', 'Census Tract 909', 'Census Tract 811', 'Census Tract 912.03', 'Census Tract 9604', 'Census Tract 9401', 'Census Tract 902.02', 'Census Tract 9703', 'Census Tract 9512', 'Census Tract 9403', 'Census Tract 3', 'Census Tract 14', 'Census Tract 9612', 'Census Tract 410.08', 'Census Tract 401.01', 'Census Tract 413.10', 'Census Tract 404.13', 'Census Tract 407.12', 'Census Tract 411.12', 'Census Tract 406.09', 'Census Tract 428', 'Census Tract 411.08', 'Census Tract 405.07', 'Census Tract 406.05', 'Census Tract 9754.02', 'Census Tract 9755', 'Census Tract 9754.01', 'Census Tract 110', 'Census Tract 9703', 'Census Tract 115', 'Census Tract 122.12', 'Census Tract 116.23', 'Census Tract 9505', 'Census Tract 9503', 'Census Tract 107', 'Census Tract 106', 'Census Tract 1', 'Census Tract 101', 'Census Tract 8.03', 'Census Tract 117', 'Census Tract 102.02', 'Census Tract 108.05', 'Census Tract 6', 'Census Tract 312.06', 'Census Tract 273', 'Census Tract 1', 'Census Tract 326.02', 'Census Tract 226.05', 'Census Tract 211', 'Census Tract 323.26', 'Census Tract 323.21', 'Census Tract 250.05', 'Census Tract 303.14', 'Census Tract 319.03', 'Census Tract 119', 'Census Tract 323.07', 'Census Tract 305.03', 'Census Tract 104.01', 'Census Tract 304.03', 'Census Tract 91', 'Census Tract 88', 'Census Tract 303.06', 'Census Tract 117', 'Census Tract 233', 'Census Tract 85', 'Census Tract 299.01', 'Census Tract 76', 'Census Tract 70', 'Census Tract 220.01', 'Census Tract 61', 'Census Tract 225', 'Census Tract 47', 'Census Tract 283', 'Census Tract 228.02', 'Census Tract 59', 'Census Tract 293.04', 'Census Tract 28', 'Census Tract 275', 'Census Tract 12', 'Census Tract 9208.02', 'Census Tract 9505', 'Census Tract 417.04', 'Census Tract 9713', 'Census Tract 9718', 'Census Tract 9706.01', 'Census Tract 9', 'Census Tract 417.01', 'Census Tract 418.12', 'Census Tract 507', 'Census Tract 514', 'Census Tract 508', 'Census Tract 520.04', 'Census Tract 412.01', 'Census Tract 521.08', 'Census Tract 109.02', 'Census Tract 528.06', 'Census Tract 535.06', 'Census Tract 31', 'Census Tract 103.05', 'Census Tract 103.01', 'Census Tract 140.01', 'Census Tract 9', 'Census Tract 114', 'Census Tract 134.01', 'Census Tract 118', 'Census Tract 9704', 'Census Tract 13']\n",
      "\n",
      "District 5 has these nodes = [4, 7, 25, 39, 47, 56, 66, 77, 86, 90, 111, 115, 124, 134, 146, 156, 168, 180, 186, 196, 212, 222, 233, 252, 257, 265, 278, 288, 306, 315, 326, 336, 345, 362, 364, 376, 392, 402, 415, 418, 428, 439, 448, 455, 458, 476, 484, 500, 506, 510, 526, 530, 544, 551, 564, 578, 599, 610, 616, 625, 639, 652, 666, 674, 700, 702, 705, 706, 710, 722, 739, 743, 753, 767, 781, 788, 800, 812, 820, 826, 832, 835, 844, 854, 863, 878, 899, 908, 912, 921, 927, 936, 943, 955, 961, 969, 982, 991, 1015, 1022, 1027, 1037, 1051, 1057, 1068, 1074, 1085, 1093, 1104, 1115, 1123, 1134, 1147, 1167, 1177, 1187, 1205, 1214, 1224, 1247, 1250, 1257, 1265, 1282, 1293, 1301, 1309, 1322, 1338, 1345, 1358, 1366, 1377, 1389, 1393, 1402, 1422, 1438, 1448] and this population = 670761\n",
      "The corresponding county names are = ['Census Tract 9400.06', 'Census Tract 721.07', 'Census Tract 731.08', 'Census Tract 719.01', 'Census Tract 730.05', 'Census Tract 702.07', 'Census Tract 613', 'Census Tract 721.08', 'Census Tract 721.11', 'Census Tract 606', 'Census Tract 734.08', 'Census Tract 713.09', 'Census Tract 703.12', 'Census Tract 607', 'Census Tract 731.17', 'Census Tract 712.07', 'Census Tract 712.05', 'Census Tract 536.04', 'Census Tract 519.28', 'Census Tract 521.18', 'Census Tract 9400.01', 'Census Tract 5', 'Census Tract 21.02', 'Census Tract 806', 'Census Tract 914', 'Census Tract 810', 'Census Tract 925', 'Census Tract 9611', 'Census Tract 905.02', 'Census Tract 9603', 'Census Tract 9516', 'Census Tract 9525', 'Census Tract 9523.01', 'Census Tract 9', 'Census Tract 17', 'Census Tract 9606', 'Census Tract 410.05', 'Census Tract 411.10', 'Census Tract 419', 'Census Tract 423', 'Census Tract 407.09', 'Census Tract 9601', 'Census Tract 413.26', 'Census Tract 404.09', 'Census Tract 405.10', 'Census Tract 413.20', 'Census Tract 404.07', 'Census Tract 203', 'Census Tract 411.04', 'Census Tract 206.03', 'Census Tract 111', 'Census Tract 120', 'Census Tract 9720', 'Census Tract 9707', 'Census Tract 9', 'Census Tract 126.10', 'Census Tract 125.20', 'Census Tract 9507', 'Census Tract 119', 'Census Tract 108', 'Census Tract 9503', 'Census Tract 7', 'Census Tract 8.04', 'Census Tract 104.04', 'Census Tract 107.01', 'Census Tract 108.14', 'Census Tract 108.07', 'Census Tract 107.05', 'Census Tract 108.09', 'Census Tract 9', 'Census Tract 321.02', 'Census Tract 323.13', 'Census Tract 267', 'Census Tract 318', 'Census Tract 262', 'Census Tract 43.02', 'Census Tract 258.03', 'Census Tract 207', 'Census Tract 323.27', 'Census Tract 323.22', 'Census Tract 320.08', 'Census Tract 204.01', 'Census Tract 292.06', 'Census Tract 222.03', 'Census Tract 311', 'Census Tract 317.06', 'Census Tract 102', 'Census Tract 110.01', 'Census Tract 228.03', 'Census Tract 303.12', 'Census Tract 92', 'Census Tract 322.13', 'Census Tract 230', 'Census Tract 111.02', 'Census Tract 235', 'Census Tract 86', 'Census Tract 236.04', 'Census Tract 295.04', 'Census Tract 294.05', 'Census Tract 57', 'Census Tract 221.02', 'Census Tract 54', 'Census Tract 287', 'Census Tract 46', 'Census Tract 323.25', 'Census Tract 277.02', 'Census Tract 257.02', 'Census Tract 293.05', 'Census Tract 22', 'Census Tract 290.03', 'Census Tract 14', 'Census Tract 9200', 'Census Tract 9503', 'Census Tract 9704', 'Census Tract 9709', 'Census Tract 10', 'Census Tract 9601', 'Census Tract 418.11', 'Census Tract 413.01', 'Census Tract 519.16', 'Census Tract 520.05', 'Census Tract 526.07', 'Census Tract 519.15', 'Census Tract 420.06', 'Census Tract 112', 'Census Tract 113', 'Census Tract 538.02', 'Census Tract 534', 'Census Tract 524.02', 'Census Tract 26', 'Census Tract 46.01', 'Census Tract 133', 'Census Tract 102.02', 'Census Tract 141', 'Census Tract 49', 'Census Tract 113', 'Census Tract 105.01', 'Census Tract 9402', 'Census Tract 106.01']\n",
      "\n",
      "District 6 has these nodes = [0, 2, 17, 26, 44, 46, 61, 80, 88, 94, 100, 108, 114, 123, 140, 147, 160, 171, 185, 190, 201, 211, 219, 226, 240, 244, 256, 272, 277, 294, 297, 309, 322, 334, 340, 350, 359, 381, 382, 385, 398, 404, 413, 421, 432, 442, 450, 463, 481, 490, 494, 504, 515, 534, 540, 542, 554, 561, 571, 581, 600, 605, 622, 631, 643, 650, 659, 664, 671, 685, 698, 724, 728, 734, 740, 758, 765, 787, 790, 793, 805, 816, 823, 836, 843, 861, 868, 882, 891, 900, 909, 918, 929, 935, 957, 962, 966, 978, 990, 1004, 1013, 1024, 1034, 1046, 1059, 1067, 1079, 1092, 1096, 1106, 1118, 1135, 1140, 1148, 1165, 1168, 1179, 1185, 1194, 1220, 1227, 1230, 1249, 1263, 1269, 1274, 1276, 1300, 1310, 1316, 1327, 1339, 1346, 1367, 1370, 1383, 1401, 1418, 1428, 1434, 1444] and this population = 669774\n",
      "The corresponding county names are = ['Census Tract 620', 'Census Tract 731.11', 'Census Tract 718.03', 'Census Tract 719.02', 'Census Tract 724.05', 'Census Tract 734.04', 'Census Tract 726.03', 'Census Tract 715.03', 'Census Tract 9400.11', 'Census Tract 718.07', 'Census Tract 703.15', 'Census Tract 724.09', 'Census Tract 713.10', 'Census Tract 610.01', 'Census Tract 735', 'Census Tract 725.05', 'Census Tract 9400.09', 'Census Tract 418.10', 'Census Tract 418.09', 'Census Tract 522.08', 'Census Tract 9400.02', 'Census Tract 9400.03', 'Census Tract 32', 'Census Tract 12.02', 'Census Tract 34', 'Census Tract 908', 'Census Tract 913.02', 'Census Tract 919', 'Census Tract 924', 'Census Tract 929.01', 'Census Tract 904', 'Census Tract 927.04', 'Census Tract 9701', 'Census Tract 9522', 'Census Tract 9511', 'Census Tract 9405', 'Census Tract 18', 'Census Tract 9400', 'Census Tract 9605', 'Census Tract 9603', 'Census Tract 409.05', 'Census Tract 416', 'Census Tract 417', 'Census Tract 404.12', 'Census Tract 406.08', 'Census Tract 9605', 'Census Tract 406.10', 'Census Tract 426', 'Census Tract 413.12', 'Census Tract 414', 'Census Tract 402.03', 'Census Tract 412.05', 'Census Tract 9503', 'Census Tract 9710', 'Census Tract 9719', 'Census Tract 9714', 'Census Tract 19', 'Census Tract 6.02', 'Census Tract 105.20', 'Census Tract 122.22', 'Census Tract 125.30', 'Census Tract 116.24', 'Census Tract 9508', 'Census Tract 9506', 'Census Tract 9506.02', 'Census Tract 4', 'Census Tract 9400', 'Census Tract 103.03', 'Census Tract 107.01', 'Census Tract 113', 'Census Tract 110.02', 'Census Tract 9508', 'Census Tract 9505', 'Census Tract 9511', 'Census Tract 322.10', 'Census Tract 5', 'Census Tract 325', 'Census Tract 17.02', 'Census Tract 74.02', 'Census Tract 110.02', 'Census Tract 324.01', 'Census Tract 253.02', 'Census Tract 238.04', 'Census Tract 203', 'Census Tract 256.02', 'Census Tract 319.06', 'Census Tract 308.01', 'Census Tract 17.01', 'Census Tract 323.24', 'Census Tract 101', 'Census Tract 253.01', 'Census Tract 219.04', 'Census Tract 90', 'Census Tract 320.10', 'Census Tract 231', 'Census Tract 303.04', 'Census Tract 300.04', 'Census Tract 78', 'Census Tract 296.01', 'Census Tract 240', 'Census Tract 294.07', 'Census Tract 258.04', 'Census Tract 288.02', 'Census Tract 226.03', 'Census Tract 44', 'Census Tract 323.09', 'Census Tract 34', 'Census Tract 276', 'Census Tract 292.04', 'Census Tract 20', 'Census Tract 274', 'Census Tract 9201', 'Census Tract 9206', 'Census Tract 9504', 'Census Tract 9702', 'Census Tract 9705', 'Census Tract 9719', 'Census Tract 8', 'Census Tract 3', 'Census Tract 536.02', 'Census Tract 420.01', 'Census Tract 505', 'Census Tract 519.17', 'Census Tract 420.04', 'Census Tract 420.05', 'Census Tract 408', 'Census Tract 412.02', 'Census Tract 106', 'Census Tract 419.01', 'Census Tract 525.03', 'Census Tract 528.04', 'Census Tract 528.05', 'Census Tract 29', 'Census Tract 103.04', 'Census Tract 104.01', 'Census Tract 132.02', 'Census Tract 112.02', 'Census Tract 120', 'Census Tract 9602', 'Census Tract 9706', 'Census Tract 5']\n",
      "\n",
      "District 7 has these nodes = [5, 11, 27, 30, 42, 49, 60, 65, 74, 83, 95, 106, 113, 122, 137, 152, 153, 158, 175, 178, 194, 195, 206, 217, 235, 248, 251, 267, 270, 281, 293, 301, 304, 317, 328, 338, 352, 353, 368, 370, 375, 387, 401, 410, 414, 430, 446, 454, 469, 473, 487, 493, 499, 517, 527, 531, 539, 558, 570, 585, 590, 597, 607, 618, 632, 640, 649, 667, 680, 683, 697, 703, 714, 721, 742, 748, 766, 777, 779, 789, 796, 806, 817, 829, 841, 856, 875, 883, 885, 898, 901, 913, 917, 930, 947, 956, 967, 984, 989, 994, 1005, 1011, 1029, 1042, 1047, 1050, 1071, 1073, 1081, 1087, 1098, 1108, 1116, 1124, 1139, 1150, 1153, 1158, 1176, 1181, 1197, 1208, 1228, 1234, 1239, 1253, 1268, 1272, 1294, 1296, 1307, 1312, 1315, 1326, 1329, 1340, 1350, 1355, 1373, 1380, 1397, 1404, 1413, 1416, 1417, 1427, 1432, 1441, 1452] and this population = 674190\n",
      "The corresponding county names are = ['Census Tract 731.16', 'Census Tract 714.11', 'Census Tract 723.07', 'Census Tract 724.07', 'Census Tract 704.01', 'Census Tract 723.09', 'Census Tract 618', 'Census Tract 725.03', 'Census Tract 713.07', 'Census Tract 723.13', 'Census Tract 731.23', 'Census Tract 731.19', 'Census Tract 731.21', 'Census Tract 610.02', 'Census Tract 731.18', 'Census Tract 609.03', 'Census Tract 604', 'Census Tract 715.05', 'Census Tract 519.26', 'Census Tract 522.09', 'Census Tract 405', 'Census Tract 520.03', 'Census Tract 10', 'Census Tract 4', 'Census Tract 19.02', 'Census Tract 801.02', 'Census Tract 804', 'Census Tract 812', 'Census Tract 912.01', 'Census Tract 9603', 'Census Tract 926', 'Census Tract 808', 'Census Tract 929.02', 'Census Tract 9702', 'Census Tract 9518', 'Census Tract 9514', 'Census Tract 9407', 'Census Tract 9408', 'Census Tract 2', 'Census Tract 11', 'Census Tract 9602', 'Census Tract 10', 'Census Tract 409.07', 'Census Tract 413.21', 'Census Tract 418', 'Census Tract 413.27', 'Census Tract 413.31', 'Census Tract 410.10', 'Census Tract 401.02', 'Census Tract 410.09', 'Census Tract 405.08', 'Census Tract 402.02', 'Census Tract 202', 'Census Tract 9751', 'Census Tract 124.20', 'Census Tract 121', 'Census Tract 9718', 'Census Tract 16', 'Census Tract 109.10', 'Census Tract 5.02', 'Census Tract 15.01', 'Census Tract 126.20', 'Census Tract 9504', 'Census Tract 9501', 'Census Tract 9507', 'Census Tract 9504', 'Census Tract 11', 'Census Tract 8.06', 'Census Tract 109.02', 'Census Tract 118', 'Census Tract 104', 'Census Tract 108.10', 'Census Tract 8', 'Census Tract 1', 'Census Tract 321.04', 'Census Tract 272', 'Census Tract 319.07', 'Census Tract 328', 'Census Tract 264', 'Census Tract 43.01', 'Census Tract 114.02', 'Census Tract 324.02', 'Census Tract 258.06', 'Census Tract 221.01', 'Census Tract 250.06', 'Census Tract 249.02', 'Census Tract 103', 'Census Tract 74.01', 'Census Tract 323.15', 'Census Tract 304.04', 'Census Tract 99', 'Census Tract 232.02', 'Census Tract 218.02', 'Census Tract 89', 'Census Tract 303.05', 'Census Tract 322.12', 'Census Tract 300.03', 'Census Tract 299.02', 'Census Tract 296.02', 'Census Tract 73', 'Census Tract 247.01', 'Census Tract 295.02', 'Census Tract 294.03', 'Census Tract 50', 'Census Tract 226.04', 'Census Tract 245', 'Census Tract 280', 'Census Tract 278', 'Census Tract 32', 'Census Tract 323.18', 'Census Tract 29', 'Census Tract 320.07', 'Census Tract 290.01', 'Census Tract 13', 'Census Tract 9205', 'Census Tract 9501', 'Census Tract 9716', 'Census Tract 417.03', 'Census Tract 419.05', 'Census Tract 9721', 'Census Tract 2', 'Census Tract 9603', 'Census Tract 420.03', 'Census Tract 414', 'Census Tract 513', 'Census Tract 504.02', 'Census Tract 512', 'Census Tract 401', 'Census Tract 107', 'Census Tract 108', 'Census Tract 522.07', 'Census Tract 521.05', 'Census Tract 525.04', 'Census Tract 528.03', 'Census Tract 9400.02', 'Census Tract 418.08', 'Census Tract 35', 'Census Tract 43', 'Census Tract 144', 'Census Tract 103.03', 'Census Tract 106.02', 'Census Tract 115', 'Census Tract 50', 'Census Tract 108', 'Census Tract 109', 'Census Tract 127.01', 'Census Tract 9710', 'Census Tract 2', 'Census Tract 14']\n",
      "\n",
      "District 8 has these nodes = [8, 18, 21, 29, 38, 51, 53, 59, 75, 78, 87, 93, 99, 107, 126, 127, 130, 141, 143, 145, 149, 163, 174, 182, 192, 204, 210, 227, 231, 241, 249, 259, 268, 279, 286, 295, 310, 316, 320, 327, 346, 347, 349, 366, 378, 391, 399, 417, 423, 427, 441, 457, 462, 468, 477, 503, 505, 514, 525, 541, 547, 556, 577, 579, 592, 594, 602, 623, 627, 642, 656, 670, 675, 687, 692, 707, 713, 719, 735, 737, 752, 756, 770, 780, 783, 792, 803, 809, 822, 834, 847, 851, 860, 867, 876, 888, 902, 911, 923, 934, 942, 945, 958, 968, 977, 986, 1014, 1020, 1036, 1040, 1055, 1069, 1080, 1084, 1090, 1101, 1111, 1119, 1130, 1142, 1152, 1164, 1170, 1180, 1191, 1196, 1207, 1212, 1221, 1235, 1242, 1248, 1259, 1271, 1283, 1291, 1303, 1308, 1313, 1321, 1333, 1347, 1349, 1356, 1365, 1374, 1381, 1388, 1406, 1412, 1415, 1420, 1439, 1440, 1447] and this population = 669759\n",
      "The corresponding county names are = ['Census Tract 717.03', 'Census Tract 731.15', 'Census Tract 626', 'Census Tract 721.09', 'Census Tract 635.01', 'Census Tract 717.06', 'Census Tract 717.04', 'Census Tract 616.01', 'Census Tract 628.02', 'Census Tract 714.08', 'Census Tract 721.12', 'Census Tract 718.08', 'Census Tract 703.14', 'Census Tract 725.07', 'Census Tract 731.20', 'Census Tract 731.22', 'Census Tract 731.24', 'Census Tract 619', 'Census Tract 729.01', 'Census Tract 713.05', 'Census Tract 605', 'Census Tract 713.04', 'Census Tract 519.21', 'Census Tract 529.06', 'Census Tract 535.07', 'Census Tract 29', 'Census Tract 1', 'Census Tract 16.01', 'Census Tract 28.01', 'Census Tract 30.01', 'Census Tract 802', 'Census Tract 916', 'Census Tract 814', 'Census Tract 9605', 'Census Tract 9607', 'Census Tract 923', 'Census Tract 927.01', 'Census Tract 9701', 'Census Tract 9705', 'Census Tract 9517', 'Census Tract 9501', 'Census Tract 9402', 'Census Tract 9404', 'Census Tract 12', 'Census Tract 9608', 'Census Tract 410.03', 'Census Tract 409.08', 'Census Tract 421', 'Census Tract 404.16', 'Census Tract 407.10', 'Census Tract 9603', 'Census Tract 407.11', 'Census Tract 425', 'Census Tract 431', 'Census Tract 208', 'Census Tract 408.05', 'Census Tract 407.03', 'Census Tract 9502', 'Census Tract 103', 'Census Tract 9717', 'Census Tract 9702', 'Census Tract 20.02', 'Census Tract 109.20', 'Census Tract 118.21', 'Census Tract 21', 'Census Tract 116.21', 'Census Tract 125.10', 'Census Tract 112', 'Census Tract 116.10', 'Census Tract 9506.01', 'Census Tract 105.01', 'Census Tract 107.02', 'Census Tract 9.01', 'Census Tract 105', 'Census Tract 101', 'Census Tract 115.04', 'Census Tract 7', 'Census Tract 5', 'Census Tract 220.06', 'Census Tract 317.03', 'Census Tract 268.01', 'Census Tract 7', 'Census Tract 317.04', 'Census Tract 263', 'Census Tract 260.01', 'Census Tract 100.01', 'Census Tract 321.03', 'Census Tract 210', 'Census Tract 234.03', 'Census Tract 204.02', 'Census Tract 300.06', 'Census Tract 241', 'Census Tract 319.04', 'Census Tract 308.02', 'Census Tract 316.04', 'Census Tract 219.05', 'Census Tract 98', 'Census Tract 258.05', 'Census Tract 303.10', 'Census Tract 317.05', 'Census Tract 227.02', 'Census Tract 303.08', 'Census Tract 236.03', 'Census Tract 111.01', 'Census Tract 79', 'Census Tract 298.02', 'Census Tract 294.06', 'Census Tract 60', 'Census Tract 56', 'Census Tract 52', 'Census Tract 284.02', 'Census Tract 282', 'Census Tract 33', 'Census Tract 255', 'Census Tract 313.02', 'Census Tract 26', 'Census Tract 220.03', 'Census Tract 19', 'Census Tract 323.23', 'Census Tract 9207.02', 'Census Tract 9715', 'Census Tract 9701', 'Census Tract 9708', 'Census Tract 9720', 'Census Tract 15', 'Census Tract 7', 'Census Tract 9604', 'Census Tract 9504', 'Census Tract 407', 'Census Tract 416.07', 'Census Tract 517.01', 'Census Tract 520.07', 'Census Tract 533.02', 'Census Tract 402', 'Census Tract 526.06', 'Census Tract 103', 'Census Tract 109.01', 'Census Tract 522.04', 'Census Tract 523.01', 'Census Tract 532.02', 'Census Tract 501.02', 'Census Tract 30', 'Census Tract 32', 'Census Tract 44', 'Census Tract 142', 'Census Tract 145', 'Census Tract 48', 'Census Tract 140.02', 'Census Tract 123', 'Census Tract 102.01', 'Census Tract 137', 'Census Tract 125', 'Census Tract 127.02', 'Census Tract 128.01', 'Census Tract 8']\n",
      "\n",
      "District 9 has these nodes = [10, 16, 23, 32, 33, 41, 52, 62, 69, 70, 82, 89, 97, 103, 110, 116, 120, 128, 129, 135, 151, 155, 164, 167, 183, 198, 208, 213, 218, 220, 225, 229, 234, 238, 247, 253, 261, 263, 280, 282, 291, 292, 299, 303, 312, 319, 321, 330, 333, 344, 351, 355, 356, 361, 371, 372, 386, 388, 394, 405, 411, 416, 426, 435, 437, 443, 445, 456, 466, 467, 478, 480, 483, 491, 502, 507, 508, 519, 522, 529, 536, 546, 550, 557, 559, 562, 567, 583, 584, 591, 598, 603, 604, 609, 615, 621, 633, 637, 641, 645, 651, 657, 658, 662, 673, 678, 684, 686, 691, 699, 701, 704, 715, 717, 725, 729, 733, 745, 749, 755, 761, 768, 773, 774, 786, 795, 799, 813, 821, 831, 839, 840, 852, 853, 862, 864, 869, 877, 881, 890, 897, 907, 915, 922, 926, 940, 948, 952, 960, 972, 973, 980, 996, 999, 1003, 1006, 1016, 1017, 1031, 1033, 1043, 1049, 1058, 1062, 1064, 1070, 1078, 1091, 1102, 1103, 1105, 1114, 1126, 1127, 1133, 1136, 1138, 1146, 1157, 1162, 1169, 1172, 1190, 1195, 1201, 1204, 1210, 1211, 1213, 1217, 1226, 1231, 1237, 1243, 1258, 1262, 1279, 1281, 1285, 1287, 1295, 1299, 1305, 1314, 1318, 1324, 1334, 1336, 1337, 1343, 1353, 1361, 1362, 1372, 1376, 1385, 1386, 1392, 1396, 1405, 1408, 1421, 1423, 1431, 1437, 1445, 1450, 1454] and this population = 670784\n",
      "The corresponding county names are = ['Census Tract 725.06', 'Census Tract 733.02', 'Census Tract 724.10', 'Census Tract 701', 'Census Tract 730.06', 'Census Tract 630', 'Census Tract 717.05', 'Census Tract 726.02', 'Census Tract 616.02', 'Census Tract 703.08', 'Census Tract 9400.02', 'Census Tract 718.05', 'Census Tract 704.03', 'Census Tract 729.03', 'Census Tract 731.26', 'Census Tract 729.06', 'Census Tract 602', 'Census Tract 734.05', 'Census Tract 734.07', 'Census Tract 723.10', 'Census Tract 609.06', 'Census Tract 702.05', 'Census Tract 717.07', 'Census Tract 9400.01', 'Census Tract 535.08', 'Census Tract 17.01', 'Census Tract 2', 'Census Tract 27.01', 'Census Tract 13', 'Census Tract 3', 'Census Tract 15.02', 'Census Tract 9.02', 'Census Tract 21.01', 'Census Tract 12.01', 'Census Tract 801.01', 'Census Tract 807', 'Census Tract 918', 'Census Tract 805', 'Census Tract 9606', 'Census Tract 9601', 'Census Tract 9613.01', 'Census Tract 9608.01', 'Census Tract 9400', 'Census Tract 928.03', 'Census Tract 9601', 'Census Tract 9704', 'Census Tract 9400', 'Census Tract 9513', 'Census Tract 9510', 'Census Tract 9524.01', 'Census Tract 9406', 'Census Tract 21', 'Census Tract 13', 'Census Tract 15', 'Census Tract 9400', 'Census Tract 16', 'Census Tract 9601', 'Census Tract 4', 'Census Tract 411.07', 'Census Tract 409.04', 'Census Tract 413.09', 'Census Tract 420', 'Census Tract 405.11', 'Census Tract 408.08', 'Census Tract 410.11', 'Census Tract 9604', 'Census Tract 411.11', 'Census Tract 404.11', 'Census Tract 429', 'Census Tract 430', 'Census Tract 207', 'Census Tract 413.13', 'Census Tract 404.08', 'Census Tract 415', 'Census Tract 407.06', 'Census Tract 413.17', 'Census Tract 408.06', 'Census Tract 9756', 'Census Tract 9753', 'Census Tract 123.20', 'Census Tract 9712', 'Census Tract 9701', 'Census Tract 9705', 'Census Tract 18', 'Census Tract 3', 'Census Tract 7.02', 'Census Tract 13', 'Census Tract 10', 'Census Tract 5.01', 'Census Tract 7.03', 'Census Tract 124.12', 'Census Tract 127.10', 'Census Tract 105.10', 'Census Tract 9506', 'Census Tract 101', 'Census Tract 9505', 'Census Tract 9502', 'Census Tract 5.02', 'Census Tract 9502.02', 'Census Tract 9507.02', 'Census Tract 6', 'Census Tract 106', 'Census Tract 109', 'Census Tract 110', 'Census Tract 9.02', 'Census Tract 114.02', 'Census Tract 116', 'Census Tract 106', 'Census Tract 120', 'Census Tract 107.08', 'Census Tract 107.03', 'Census Tract 108.11', 'Census Tract 10', 'Census Tract 3', 'Census Tract 9509', 'Census Tract 9506', 'Census Tract 9410', 'Census Tract 327.03', 'Census Tract 271', 'Census Tract 8', 'Census Tract 3', 'Census Tract 320.02', 'Census Tract 322.07', 'Census Tract 218.03', 'Census Tract 213', 'Census Tract 107.02', 'Census Tract 246.02', 'Census Tract 206', 'Census Tract 234.04', 'Census Tract 227.01', 'Census Tract 121', 'Census Tract 238.03', 'Census Tract 227.03', 'Census Tract 242', 'Census Tract 313.01', 'Census Tract 310', 'Census Tract 120', 'Census Tract 320.11', 'Census Tract 323.28', 'Census Tract 323.11', 'Census Tract 305.01', 'Census Tract 107.01', 'Census Tract 315.02', 'Census Tract 303.11', 'Census Tract 93', 'Census Tract 229.01', 'Census Tract 87', 'Census Tract 115', 'Census Tract 234.01', 'Census Tract 83', 'Census Tract 82', 'Census Tract 236.01', 'Census Tract 71', 'Census Tract 68', 'Census Tract 238.01', 'Census Tract 249.01', 'Census Tract 64', 'Census Tract 63', 'Census Tract 293.06', 'Census Tract 289.01', 'Census Tract 49', 'Census Tract 244', 'Census Tract 45', 'Census Tract 40', 'Census Tract 38', 'Census Tract 281', 'Census Tract 35', 'Census Tract 326.01', 'Census Tract 25', 'Census Tract 24', 'Census Tract 21', 'Census Tract 290.04', 'Census Tract 11', 'Census Tract 10', 'Census Tract 9703', 'Census Tract 9202', 'Census Tract 9204', 'Census Tract 9502', 'Census Tract 519.27', 'Census Tract 9711', 'Census Tract 9707', 'Census Tract 409', 'Census Tract 14', 'Census Tract 6', 'Census Tract 9400', 'Census Tract 9605', 'Census Tract 9501', 'Census Tract 9503', 'Census Tract 9505', 'Census Tract 518.04', 'Census Tract 537', 'Census Tract 506', 'Census Tract 519.13', 'Census Tract 516.01', 'Census Tract 529.03', 'Census Tract 509', 'Census Tract 415', 'Census Tract 516.02', 'Census Tract 519.12', 'Census Tract 521.07', 'Census Tract 102', 'Census Tract 105', 'Census Tract 114.01', 'Census Tract 523.02', 'Census Tract 525.02', 'Census Tract 527.01', 'Census Tract 501.01', 'Census Tract 521.12', 'Census Tract 521.13', 'Census Tract 24', 'Census Tract 41', 'Census Tract 110', 'Census Tract 111.02', 'Census Tract 117.01', 'Census Tract 46.02', 'Census Tract 39', 'Census Tract 138', 'Census Tract 143', 'Census Tract 38', 'Census Tract 122', 'Census Tract 124.01', 'Census Tract 128.02', 'Census Tract 116', 'Census Tract 9709', 'Census Tract 9401', 'Census Tract 6', 'Census Tract 12', 'Census Tract 16']\n",
      "\n"
     ]
    }
   ],
   "source": [
    "# print the absolute population deviation\n",
    "print(\"The minimum required deviation is\",m2.objVal,\"persons.\")\n",
    "\n",
    "# retrieve the districts and their populations\n",
    "districts2 = [ [ i for i in G2.nodes if x2[i,j].x > 0.5 ] for j in range(k) ]\n",
    "district_county_names2 = [ [ G2.nodes[i]['NAMELSAD10'] for i in district2 ] for district2 in districts2 ]\n",
    "district_populations2 = [ sum( G2.nodes[i]['TOTPOP'] for i in district2 ) for district2 in districts2 ]\n",
    "census_tracts = []\n",
    "# print district info\n",
    "for j in range(k):\n",
    "    print(\"District\",j,\"has these nodes =\",districts2[j],\"and this population =\",district_populations2[j] )\n",
    "    print(\"The corresponding county names are =\",district_county_names2[j] )\n",
    "    census_tracts.append(district_populations2[j])\n",
    "    print(\"\")"
   ]
  },
  {
   "cell_type": "code",
   "execution_count": 23,
   "id": "6a04ca06",
   "metadata": {},
   "outputs": [
    {
     "data": {
      "text/plain": [
       "[670646,\n",
       " 670706,\n",
       " 673714,\n",
       " 674200,\n",
       " 670214,\n",
       " 670761,\n",
       " 669774,\n",
       " 674190,\n",
       " 669759,\n",
       " 670784]"
      ]
     },
     "execution_count": 23,
     "metadata": {},
     "output_type": "execute_result"
    }
   ],
   "source": [
    "census_tracts\n",
    "#this shows the deviation between them is very small with the biggest difference being between \n",
    "#674200-669759= 4441 people  this is less than the required 1% by the st.dev which would be around 6700\n",
    "#It is worth noting that with this census tract data the population\n",
    "#numbers do not match the current 2020 census data despite being listed as 2020\n",
    "#this was the easiest method to find tract data however so it will have to work\n",
    "#this does give me a much better deviation than the county split however\n",
    "#But the model doesnt have connections enforced"
   ]
  },
  {
   "cell_type": "code",
   "execution_count": 28,
   "id": "6db247ab",
   "metadata": {},
   "outputs": [
    {
     "name": "stdout",
     "output_type": "stream",
     "text": [
      "Is district = [1, 6, 22, 36, 48, 58, 72, 84, 92, 105, 118, 132, 144, 161, 173, 184, 193, 197, 202, 214, 224, 237, 246, 262, 275, 287, 300, 311, 313, 325, 339, 341, 365, 373, 389, 397, 407, 419, 433, 449, 459, 464, 475, 488, 495, 501, 512, 520, 528, 545, 563, 572, 576, 586, 593, 611, 614, 617, 635, 644, 647, 663, 677, 696, 708, 730, 744, 759, 764, 769, 778, 785, 794, 804, 814, 828, 837, 850, 858, 874, 887, 894, 905, 916, 925, 939, 953, 965, 981, 988, 1002, 1010, 1025, 1032, 1044, 1053, 1061, 1077, 1088, 1100, 1112, 1122, 1128, 1132, 1144, 1154, 1155, 1160, 1171, 1183, 1184, 1192, 1200, 1202, 1206, 1218, 1229, 1238, 1245, 1255, 1264, 1273, 1280, 1292, 1306, 1319, 1328, 1344, 1360, 1369, 1382, 1395, 1407, 1419, 1426, 1435] connected? False\n",
      "Is district = [13, 20, 31, 43, 54, 68, 79, 91, 102, 125, 139, 148, 159, 170, 181, 189, 203, 215, 228, 243, 254, 264, 274, 284, 290, 308, 323, 331, 342, 360, 369, 383, 400, 409, 422, 436, 444, 453, 472, 482, 496, 509, 521, 532, 553, 555, 560, 566, 575, 587, 596, 612, 620, 634, 648, 660, 668, 676, 690, 709, 732, 746, 760, 771, 784, 798, 807, 815, 825, 838, 845, 857, 872, 880, 892, 910, 920, 938, 944, 954, 963, 976, 987, 1001, 1008, 1023, 1039, 1052, 1065, 1082, 1089, 1107, 1113, 1121, 1131, 1141, 1161, 1173, 1188, 1198, 1216, 1223, 1233, 1241, 1252, 1266, 1278, 1289, 1298, 1311, 1323, 1332, 1354, 1359, 1371, 1384, 1400, 1414, 1425, 1443, 1449] connected? False\n",
      "Is district = [12, 24, 37, 45, 55, 64, 76, 98, 104, 119, 131, 142, 154, 165, 176, 191, 207, 216, 223, 242, 250, 260, 276, 289, 302, 314, 332, 337, 343, 367, 380, 395, 406, 420, 431, 440, 452, 460, 471, 479, 489, 498, 511, 524, 537, 549, 565, 580, 589, 606, 619, 630, 638, 653, 665, 682, 689, 694, 716, 723, 727, 731, 741, 751, 762, 776, 791, 801, 810, 818, 833, 849, 865, 871, 873, 886, 895, 904, 924, 933, 941, 951, 964, 974, 983, 995, 1000, 1012, 1021, 1030, 1038, 1048, 1063, 1072, 1083, 1097, 1109, 1120, 1137, 1151, 1166, 1175, 1193, 1209, 1222, 1236, 1246, 1261, 1270, 1286, 1290, 1297, 1317, 1331, 1342, 1352, 1363, 1375, 1391, 1398, 1410, 1429, 1442, 1455] connected? False\n",
      "Is district = [3, 9, 28, 35, 40, 67, 71, 81, 96, 112, 117, 133, 138, 157, 166, 169, 179, 188, 200, 209, 230, 236, 255, 258, 269, 273, 283, 296, 307, 324, 335, 354, 358, 374, 377, 379, 393, 403, 408, 425, 434, 447, 461, 470, 485, 497, 513, 535, 538, 543, 552, 569, 573, 582, 588, 601, 626, 629, 636, 654, 661, 672, 679, 688, 695, 711, 718, 726, 736, 750, 754, 757, 772, 782, 802, 811, 824, 830, 846, 855, 866, 879, 884, 893, 903, 914, 932, 937, 949, 971, 975, 979, 993, 998, 1007, 1018, 1026, 1035, 1041, 1054, 1060, 1076, 1086, 1095, 1110, 1129, 1143, 1159, 1174, 1189, 1199, 1215, 1225, 1244, 1251, 1256, 1260, 1275, 1284, 1304, 1320, 1335, 1341, 1351, 1357, 1364, 1379, 1387, 1399, 1409, 1430, 1433, 1446, 1456] connected? False\n",
      "Is district = [14, 15, 19, 34, 50, 57, 63, 73, 85, 101, 109, 121, 136, 150, 162, 172, 177, 187, 199, 205, 221, 232, 239, 245, 266, 271, 285, 298, 305, 318, 329, 348, 357, 363, 384, 390, 396, 412, 424, 429, 438, 451, 465, 474, 486, 492, 516, 518, 523, 533, 548, 568, 574, 595, 608, 613, 624, 628, 646, 655, 669, 681, 693, 712, 720, 738, 747, 763, 775, 797, 808, 819, 827, 842, 848, 859, 870, 889, 896, 906, 919, 928, 931, 946, 950, 959, 970, 985, 992, 997, 1009, 1019, 1028, 1045, 1056, 1066, 1075, 1094, 1099, 1117, 1125, 1145, 1149, 1156, 1163, 1178, 1182, 1186, 1203, 1219, 1232, 1240, 1254, 1267, 1277, 1288, 1302, 1325, 1330, 1348, 1368, 1378, 1390, 1394, 1403, 1411, 1424, 1436, 1451] connected? False\n",
      "Is district = [4, 7, 25, 39, 47, 56, 66, 77, 86, 90, 111, 115, 124, 134, 146, 156, 168, 180, 186, 196, 212, 222, 233, 252, 257, 265, 278, 288, 306, 315, 326, 336, 345, 362, 364, 376, 392, 402, 415, 418, 428, 439, 448, 455, 458, 476, 484, 500, 506, 510, 526, 530, 544, 551, 564, 578, 599, 610, 616, 625, 639, 652, 666, 674, 700, 702, 705, 706, 710, 722, 739, 743, 753, 767, 781, 788, 800, 812, 820, 826, 832, 835, 844, 854, 863, 878, 899, 908, 912, 921, 927, 936, 943, 955, 961, 969, 982, 991, 1015, 1022, 1027, 1037, 1051, 1057, 1068, 1074, 1085, 1093, 1104, 1115, 1123, 1134, 1147, 1167, 1177, 1187, 1205, 1214, 1224, 1247, 1250, 1257, 1265, 1282, 1293, 1301, 1309, 1322, 1338, 1345, 1358, 1366, 1377, 1389, 1393, 1402, 1422, 1438, 1448] connected? False\n",
      "Is district = [0, 2, 17, 26, 44, 46, 61, 80, 88, 94, 100, 108, 114, 123, 140, 147, 160, 171, 185, 190, 201, 211, 219, 226, 240, 244, 256, 272, 277, 294, 297, 309, 322, 334, 340, 350, 359, 381, 382, 385, 398, 404, 413, 421, 432, 442, 450, 463, 481, 490, 494, 504, 515, 534, 540, 542, 554, 561, 571, 581, 600, 605, 622, 631, 643, 650, 659, 664, 671, 685, 698, 724, 728, 734, 740, 758, 765, 787, 790, 793, 805, 816, 823, 836, 843, 861, 868, 882, 891, 900, 909, 918, 929, 935, 957, 962, 966, 978, 990, 1004, 1013, 1024, 1034, 1046, 1059, 1067, 1079, 1092, 1096, 1106, 1118, 1135, 1140, 1148, 1165, 1168, 1179, 1185, 1194, 1220, 1227, 1230, 1249, 1263, 1269, 1274, 1276, 1300, 1310, 1316, 1327, 1339, 1346, 1367, 1370, 1383, 1401, 1418, 1428, 1434, 1444] connected? False\n",
      "Is district = [5, 11, 27, 30, 42, 49, 60, 65, 74, 83, 95, 106, 113, 122, 137, 152, 153, 158, 175, 178, 194, 195, 206, 217, 235, 248, 251, 267, 270, 281, 293, 301, 304, 317, 328, 338, 352, 353, 368, 370, 375, 387, 401, 410, 414, 430, 446, 454, 469, 473, 487, 493, 499, 517, 527, 531, 539, 558, 570, 585, 590, 597, 607, 618, 632, 640, 649, 667, 680, 683, 697, 703, 714, 721, 742, 748, 766, 777, 779, 789, 796, 806, 817, 829, 841, 856, 875, 883, 885, 898, 901, 913, 917, 930, 947, 956, 967, 984, 989, 994, 1005, 1011, 1029, 1042, 1047, 1050, 1071, 1073, 1081, 1087, 1098, 1108, 1116, 1124, 1139, 1150, 1153, 1158, 1176, 1181, 1197, 1208, 1228, 1234, 1239, 1253, 1268, 1272, 1294, 1296, 1307, 1312, 1315, 1326, 1329, 1340, 1350, 1355, 1373, 1380, 1397, 1404, 1413, 1416, 1417, 1427, 1432, 1441, 1452] connected? False\n",
      "Is district = [8, 18, 21, 29, 38, 51, 53, 59, 75, 78, 87, 93, 99, 107, 126, 127, 130, 141, 143, 145, 149, 163, 174, 182, 192, 204, 210, 227, 231, 241, 249, 259, 268, 279, 286, 295, 310, 316, 320, 327, 346, 347, 349, 366, 378, 391, 399, 417, 423, 427, 441, 457, 462, 468, 477, 503, 505, 514, 525, 541, 547, 556, 577, 579, 592, 594, 602, 623, 627, 642, 656, 670, 675, 687, 692, 707, 713, 719, 735, 737, 752, 756, 770, 780, 783, 792, 803, 809, 822, 834, 847, 851, 860, 867, 876, 888, 902, 911, 923, 934, 942, 945, 958, 968, 977, 986, 1014, 1020, 1036, 1040, 1055, 1069, 1080, 1084, 1090, 1101, 1111, 1119, 1130, 1142, 1152, 1164, 1170, 1180, 1191, 1196, 1207, 1212, 1221, 1235, 1242, 1248, 1259, 1271, 1283, 1291, 1303, 1308, 1313, 1321, 1333, 1347, 1349, 1356, 1365, 1374, 1381, 1388, 1406, 1412, 1415, 1420, 1439, 1440, 1447] connected? False\n",
      "Is district = [10, 16, 23, 32, 33, 41, 52, 62, 69, 70, 82, 89, 97, 103, 110, 116, 120, 128, 129, 135, 151, 155, 164, 167, 183, 198, 208, 213, 218, 220, 225, 229, 234, 238, 247, 253, 261, 263, 280, 282, 291, 292, 299, 303, 312, 319, 321, 330, 333, 344, 351, 355, 356, 361, 371, 372, 386, 388, 394, 405, 411, 416, 426, 435, 437, 443, 445, 456, 466, 467, 478, 480, 483, 491, 502, 507, 508, 519, 522, 529, 536, 546, 550, 557, 559, 562, 567, 583, 584, 591, 598, 603, 604, 609, 615, 621, 633, 637, 641, 645, 651, 657, 658, 662, 673, 678, 684, 686, 691, 699, 701, 704, 715, 717, 725, 729, 733, 745, 749, 755, 761, 768, 773, 774, 786, 795, 799, 813, 821, 831, 839, 840, 852, 853, 862, 864, 869, 877, 881, 890, 897, 907, 915, 922, 926, 940, 948, 952, 960, 972, 973, 980, 996, 999, 1003, 1006, 1016, 1017, 1031, 1033, 1043, 1049, 1058, 1062, 1064, 1070, 1078, 1091, 1102, 1103, 1105, 1114, 1126, 1127, 1133, 1136, 1138, 1146, 1157, 1162, 1169, 1172, 1190, 1195, 1201, 1204, 1210, 1211, 1213, 1217, 1226, 1231, 1237, 1243, 1258, 1262, 1279, 1281, 1285, 1287, 1295, 1299, 1305, 1314, 1318, 1324, 1334, 1336, 1337, 1343, 1353, 1361, 1362, 1372, 1376, 1385, 1386, 1392, 1396, 1405, 1408, 1421, 1423, 1431, 1437, 1445, 1450, 1454] connected? False\n"
     ]
    }
   ],
   "source": [
    "#we can check which ones are connected using networkx\n",
    "\n",
    "import networkx as nx\n",
    "for district in districts2:\n",
    "    print(\"Is district =\", district, \"connected?\",nx.is_connected( G.subgraph( district ) ) )\n",
    "#this shows none of my districts are connected\n",
    "#however my objective for optimization of deviation while maintaining \n",
    "#census tracts/districts is completed. \n",
    "    "
   ]
  },
  {
   "cell_type": "code",
   "execution_count": 42,
   "id": "2fbf70b8",
   "metadata": {},
   "outputs": [],
   "source": [
    "import geopandas as gpd"
   ]
  },
  {
   "cell_type": "code",
   "execution_count": 72,
   "id": "43033781",
   "metadata": {},
   "outputs": [
    {
     "name": "stdout",
     "output_type": "stream",
     "text": [
      "Graph with 1458 nodes and 4061 edges\n"
     ]
    }
   ],
   "source": [
    "#worth noting you need all tracts files for this command to work\n",
    "df=gpd.read_file(\"C:/Users/crazy/OneDrive/Desktop/School/Operation Research/WA_tracts.shp\")\n",
    "\n",
    "print(G2)"
   ]
  },
  {
   "cell_type": "code",
   "execution_count": 77,
   "id": "8a49f0db",
   "metadata": {},
   "outputs": [
    {
     "data": {
      "text/plain": [
       "'assignment = [-1 for u in G2.nodes]\\n\\nfor j in range(len(districts2)):\\n    \\n    for i in districts2[j]:\\n        \\n        geoID = G2.nodes[i][\"GEOID10\"]\\n                                   \\n        for u in G2.nodes:\\n            if geoID == df[\\'GEOID20\\'][u]:\\n                assignment[u]=j\\ndf[\\'assignment\\'] = assignment\\nmy_fig = df.plot(column=\\'assignment\\').get_figure()\\n'"
      ]
     },
     "execution_count": 77,
     "metadata": {},
     "output_type": "execute_result"
    }
   ],
   "source": [
    "\"\"\"assignment = [-1 for u in G2.nodes]\n",
    "\n",
    "for j in range(len(districts2)):\n",
    "    \n",
    "    for i in districts2[j]:\n",
    "        \n",
    "        geoID = G2.nodes[i][\"GEOID10\"]\n",
    "                                   \n",
    "        for u in G2.nodes:\n",
    "            if geoID == df['GEOID20'][u]:\n",
    "                assignment[u]=j\n",
    "df['assignment'] = assignment\n",
    "my_fig = df.plot(column='assignment').get_figure()\n",
    "\"\"\""
   ]
  },
  {
   "cell_type": "code",
   "execution_count": null,
   "id": "3bfc6ecb",
   "metadata": {},
   "outputs": [],
   "source": []
  },
  {
   "cell_type": "code",
   "execution_count": null,
   "id": "38d19fb1",
   "metadata": {},
   "outputs": [],
   "source": []
  }
 ],
 "metadata": {
  "kernelspec": {
   "display_name": "Python 3 (ipykernel)",
   "language": "python",
   "name": "python3"
  },
  "language_info": {
   "codemirror_mode": {
    "name": "ipython",
    "version": 3
   },
   "file_extension": ".py",
   "mimetype": "text/x-python",
   "name": "python",
   "nbconvert_exporter": "python",
   "pygments_lexer": "ipython3",
   "version": "3.11.4"
  }
 },
 "nbformat": 4,
 "nbformat_minor": 5
}
